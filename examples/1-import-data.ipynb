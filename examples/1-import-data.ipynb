{
 "cells": [
  {
   "attachments": {},
   "cell_type": "markdown",
   "metadata": {},
   "source": [
    "# DAS Data Import\n",
    "\n",
    "## Supported Formats\n",
    "\n",
    "Lightguide currently supports the following interrogators and data formats.\n",
    "\n",
    "* MiniSEED\n",
    "* Silixa TDMS\n",
    "* Silixa HDF5\n",
    "* ASN OptoDAS HDF5\n",
    "\n",
    "The data I/O is powered by [Pyrocko](https://pyrocko.org).\n",
    "\n",
    "\n",
    "```{todo}\n",
    "As more and more data is coming in we will support other data formats as well.\n",
    "```"
   ]
  },
  {
   "attachments": {},
   "cell_type": "markdown",
   "metadata": {},
   "source": [
    "## Loading from MiniSEED"
   ]
  },
  {
   "cell_type": "code",
   "execution_count": null,
   "metadata": {},
   "outputs": [],
   "source": [
    "from lightguide.blast import Blast\n",
    "from lightguide.utils import download_http\n",
    "\n",
    "blast = Blast.from_miniseed(\"\");"
   ]
  }
 ],
 "metadata": {
  "language_info": {
   "name": "python"
  },
  "orig_nbformat": 4
 },
 "nbformat": 4,
 "nbformat_minor": 2
}
