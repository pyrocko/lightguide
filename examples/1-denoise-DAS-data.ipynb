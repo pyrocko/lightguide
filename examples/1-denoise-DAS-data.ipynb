{
 "cells": [
  {
   "cell_type": "markdown",
   "metadata": {},
   "source": [
    "# Lightguide Adaptive-Frequency-Filter\n",
    "\n",
    "In this notebook we de-noise an awfully noisy DAS data set.\n",
    "\n",
    "The vertical seismic profile shot was recorded in an ICDP borehole in Landwüst, Germany. The fibre is interrogated by a Silixa iDAS v2 and is cemented behind the casing."
   ]
  },
  {
   "cell_type": "code",
   "execution_count": null,
   "metadata": {},
   "outputs": [],
   "source": [
    "!pip install lightguide"
   ]
  },
  {
   "cell_type": "markdown",
   "metadata": {},
   "source": [
    "First we import the filter function from the `lightguide` module."
   ]
  },
  {
   "cell_type": "code",
   "execution_count": null,
   "metadata": {},
   "outputs": [],
   "source": [
    "from lightguide import filters\n",
    "from lightguide.utils import download_numpy, ExampleData\n",
    "\n",
    "\n",
    "das_data = download_numpy(ExampleData.VSPData)\n",
    "\n",
    "filtered_data = filters.afk_filter(\n",
    "    das_data, window_size=32, overlap=15, exponent=0.8, normalize_power=False)"
   ]
  },
  {
   "cell_type": "code",
   "execution_count": null,
   "metadata": {},
   "outputs": [],
   "source": [
    "import matplotlib.pyplot as plt\n",
    "\n",
    "fig, axes = plt.subplots(2, 1, figsize=(10, 10))\n",
    "\n",
    "ax = axes[0]\n",
    "ax.set_title(\"Raw Data\")\n",
    "ax.imshow(das_data, aspect=\"auto\", interpolation=\"none\")\n",
    "\n",
    "ax = axes[1]\n",
    "ax.set_title(\"Filtered Data\")\n",
    "ax.imshow(filtered_data, aspect=\"auto\", interpolation=\"none\")\n",
    "\n",
    "fig.show()\n"
   ]
  }
 ],
 "metadata": {
  "kernelspec": {
   "display_name": "Python 3.9.2 ('venv': venv)",
   "language": "python",
   "name": "python3"
  },
  "language_info": {
   "codemirror_mode": {
    "name": "ipython",
    "version": 3
   },
   "file_extension": ".py",
   "mimetype": "text/x-python",
   "name": "python",
   "nbconvert_exporter": "python",
   "pygments_lexer": "ipython3",
   "version": "3.9.2"
  },
  "orig_nbformat": 4,
  "vscode": {
   "interpreter": {
    "hash": "d6c2f566028469748ec83127a93d0ab1f5f314b33991e2ad2ee6fe2fd330af93"
   }
  }
 },
 "nbformat": 4,
 "nbformat_minor": 2
}
