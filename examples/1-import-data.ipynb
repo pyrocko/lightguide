{
 "cells": [
  {
   "attachments": {},
   "cell_type": "markdown",
   "metadata": {},
   "source": [
    "# DAS Data Import\n",
    "\n",
    "## Supported Formats\n",
    "\n",
    "Lightguide currently supports the following interrogators and data formats.\n",
    "\n",
    "* MiniSEED\n",
    "* Silixa TDMS\n",
    "* Silixa HDF5\n",
    "* ASN OptoDAS HDF5\n",
    "\n",
    "The data I/O is powered by [Pyrocko](https://pyrocko.org).\n",
    "\n",
    "\n",
    "```{todo}\n",
    "As more and more data is coming in we will support other data formats as well.\n",
    "```"
   ]
  },
  {
   "attachments": {},
   "cell_type": "markdown",
   "metadata": {},
   "source": [
    "## Loading from MiniSEED"
   ]
  },
  {
   "cell_type": "code",
   "execution_count": 3,
   "metadata": {},
   "outputs": [
    {
     "data": {
      "text/plain": [
       "<lightguide.blast.Blast at 0x7fde7e1681c0>"
      ]
     },
     "execution_count": 3,
     "metadata": {},
     "output_type": "execute_result"
    }
   ],
   "source": [
    "from pathlib import Path\n",
    "from lightguide.blast import Blast\n",
    "from lightguide.utils import download_http\n",
    "\n",
    "file = Path(\"/tmp/vsp-data.mseed\")\n",
    "if not file.exists():\n",
    "    download_http(\n",
    "        \"https://data.pyrocko.org/testing/lightguide/VSP-DAS-G1-120.mseed\",\n",
    "        file,\n",
    "    )\n",
    "\n",
    "Blast.from_miniseed(\"/tmp/vsp-data.mseed\")"
   ]
  }
 ],
 "metadata": {
  "kernelspec": {
   "display_name": "venv",
   "language": "python",
   "name": "python3"
  },
  "language_info": {
   "codemirror_mode": {
    "name": "ipython",
    "version": 3
   },
   "file_extension": ".py",
   "mimetype": "text/x-python",
   "name": "python",
   "nbconvert_exporter": "python",
   "pygments_lexer": "ipython3",
   "version": "3.9.2"
  },
  "orig_nbformat": 4
 },
 "nbformat": 4,
 "nbformat_minor": 2
}
